{
 "cells": [
  {
   "cell_type": "code",
   "execution_count": 1,
   "metadata": {},
   "outputs": [],
   "source": [
    "import findspark\n",
    "findspark.init('/home/ubuntu/spark-2.1.1-bin-hadoop2.7')\n",
    "import pyspark\n",
    "from pyspark.sql import SparkSession\n",
    "spark = SparkSession.builder.appName('tree_methods_adv').getOrCreate()"
   ]
  },
  {
   "cell_type": "code",
   "execution_count": 3,
   "metadata": {},
   "outputs": [],
   "source": [
    "dataset = spark.read.csv('dataset.csv',inferSchema=True,header=True)"
   ]
  },
  {
   "cell_type": "code",
   "execution_count": 4,
   "metadata": {},
   "outputs": [
    {
     "data": {
      "text/plain": [
       "['accident_index',\n",
       " 'vehicle_reference',\n",
       " 'vehicle_type',\n",
       " 'towing_and_articulation',\n",
       " 'vehicle_manoeuvre',\n",
       " 'vehicle_location-restricted_lane',\n",
       " 'junction_location',\n",
       " 'skidding_and_overturning',\n",
       " 'hit_object_in_carriageway',\n",
       " 'vehicle_leaving_carriageway',\n",
       " 'hit_object_off_carriageway',\n",
       " '1st_point_of_impact',\n",
       " 'was_vehicle_left_hand_drive?',\n",
       " 'journey_purpose_of_driver',\n",
       " 'sex_of_driver',\n",
       " 'age_of_driver',\n",
       " 'age_band_of_driver',\n",
       " 'engine_capacity_(cc)',\n",
       " 'propulsion_code',\n",
       " 'age_of_vehicle',\n",
       " 'driver_imd_decile',\n",
       " 'driver_home_area_type',\n",
       " 'vehicle_imd_decile',\n",
       " 'NUmber_of_Casualities_unique_to_accident_index',\n",
       " 'No_of_Vehicles_involved_unique_to_accident_index',\n",
       " 'location_easting_osgr',\n",
       " 'location_northing_osgr',\n",
       " 'longitude',\n",
       " 'latitude',\n",
       " 'police_force',\n",
       " 'accident_severity',\n",
       " 'number_of_vehicles',\n",
       " 'number_of_casualties',\n",
       " 'date',\n",
       " 'day_of_week',\n",
       " 'time',\n",
       " 'local_authority_(district)',\n",
       " 'local_authority_(highway)',\n",
       " '1st_road_class',\n",
       " '1st_road_number',\n",
       " 'road_type',\n",
       " 'speed_limit',\n",
       " 'junction_detail',\n",
       " 'junction_control',\n",
       " '2nd_road_class',\n",
       " '2nd_road_number',\n",
       " 'pedestrian_crossing-human_control',\n",
       " 'pedestrian_crossing-physical_facilities',\n",
       " 'light_conditions',\n",
       " 'weather_conditions',\n",
       " 'road_surface_conditions',\n",
       " 'special_conditions_at_site',\n",
       " 'carriageway_hazards',\n",
       " 'urban_or_rural_area',\n",
       " 'did_police_officer_attend_scene_of_accident',\n",
       " 'lsoa_of_accident_location',\n",
       " 'casualty_reference',\n",
       " 'casualty_class',\n",
       " 'sex_of_casualty',\n",
       " 'age_of_casualty',\n",
       " 'age_band_of_casualty',\n",
       " 'casualty_severity',\n",
       " 'pedestrian_location',\n",
       " 'pedestrian_movement',\n",
       " 'car_passenger',\n",
       " 'bus_or_coach_passenger',\n",
       " 'pedestrian_road_maintenance_worker',\n",
       " 'casualty_type',\n",
       " 'casualty_home_area_type',\n",
       " 'casualty_imd_decile']"
      ]
     },
     "execution_count": 4,
     "metadata": {},
     "output_type": "execute_result"
    }
   ],
   "source": [
    "data.columns"
   ]
  },
  {
   "cell_type": "code",
   "execution_count": 5,
   "metadata": {},
   "outputs": [],
   "source": [
    "my_cols = data.select([ 'weather_conditions'\n",
    "    ,'age_of_driver',\n",
    "    'accident_severity'])"
   ]
  },
  {
   "cell_type": "code",
   "execution_count": 6,
   "metadata": {},
   "outputs": [],
   "source": [
    "finaldata = my_cols.na.drop()"
   ]
  },
  {
   "cell_type": "code",
   "execution_count": 7,
   "metadata": {},
   "outputs": [],
   "source": [
    "from pyspark.ml.feature import (VectorAssembler,VectorIndexer,\n",
    "                                OneHotEncoder,StringIndexer)"
   ]
  },
  {
   "cell_type": "code",
   "execution_count": 8,
   "metadata": {},
   "outputs": [],
   "source": [
    "assembler = VectorAssembler(inputCols=[ 'weather_conditions'\n",
    "    ,'age_of_driver',\n",
    "    'accident_severity'],outputCol='features')"
   ]
  },
  {
   "cell_type": "code",
   "execution_count": 9,
   "metadata": {},
   "outputs": [],
   "source": [
    "from pyspark.ml import Pipeline\n",
    "from pyspark.ml.classification import DecisionTreeClassifier,GBTClassifier,RandomForestClassifier"
   ]
  },
  {
   "cell_type": "code",
   "execution_count": 10,
   "metadata": {},
   "outputs": [],
   "source": [
    "rfc = RandomForestClassifier(labelCol='accident_severity',featuresCol='features')"
   ]
  },
  {
   "cell_type": "code",
   "execution_count": 11,
   "metadata": {},
   "outputs": [],
   "source": [
    "pipeline = Pipeline(stages=[ assembler,rfc])"
   ]
  },
  {
   "cell_type": "code",
   "execution_count": 13,
   "metadata": {},
   "outputs": [],
   "source": [
    "train_data, test_data = finaldata.randomSplit([0.75,0.25])"
   ]
  },
  {
   "cell_type": "code",
   "execution_count": 14,
   "metadata": {},
   "outputs": [],
   "source": [
    "fit_model = pipeline.fit(train_data)"
   ]
  },
  {
   "cell_type": "code",
   "execution_count": 15,
   "metadata": {},
   "outputs": [],
   "source": [
    "rfc_predictions = fit_model.transform(test_data)"
   ]
  },
  {
   "cell_type": "code",
   "execution_count": 16,
   "metadata": {
    "scrolled": true
   },
   "outputs": [
    {
     "name": "stdout",
     "output_type": "stream",
     "text": [
      "+------------------+-------------+-----------------+--------------+------------------+-----------------+----------+\n",
      "|weather_conditions|age_of_driver|accident_severity|      features|     rawPrediction|      probability|prediction|\n",
      "+------------------+-------------+-----------------+--------------+------------------+-----------------+----------+\n",
      "|                 1|           -1|                2|[1.0,-1.0,2.0]|[0.0,0.0,20.0,0.0]|[0.0,0.0,1.0,0.0]|       2.0|\n",
      "|                 1|           -1|                2|[1.0,-1.0,2.0]|[0.0,0.0,20.0,0.0]|[0.0,0.0,1.0,0.0]|       2.0|\n",
      "|                 1|           -1|                2|[1.0,-1.0,2.0]|[0.0,0.0,20.0,0.0]|[0.0,0.0,1.0,0.0]|       2.0|\n",
      "|                 1|           -1|                2|[1.0,-1.0,2.0]|[0.0,0.0,20.0,0.0]|[0.0,0.0,1.0,0.0]|       2.0|\n",
      "|                 1|           -1|                2|[1.0,-1.0,2.0]|[0.0,0.0,20.0,0.0]|[0.0,0.0,1.0,0.0]|       2.0|\n",
      "|                 1|           -1|                2|[1.0,-1.0,2.0]|[0.0,0.0,20.0,0.0]|[0.0,0.0,1.0,0.0]|       2.0|\n",
      "|                 1|           -1|                2|[1.0,-1.0,2.0]|[0.0,0.0,20.0,0.0]|[0.0,0.0,1.0,0.0]|       2.0|\n",
      "|                 1|           -1|                2|[1.0,-1.0,2.0]|[0.0,0.0,20.0,0.0]|[0.0,0.0,1.0,0.0]|       2.0|\n",
      "|                 1|           -1|                2|[1.0,-1.0,2.0]|[0.0,0.0,20.0,0.0]|[0.0,0.0,1.0,0.0]|       2.0|\n",
      "|                 1|           -1|                2|[1.0,-1.0,2.0]|[0.0,0.0,20.0,0.0]|[0.0,0.0,1.0,0.0]|       2.0|\n",
      "|                 1|           -1|                2|[1.0,-1.0,2.0]|[0.0,0.0,20.0,0.0]|[0.0,0.0,1.0,0.0]|       2.0|\n",
      "|                 1|           -1|                2|[1.0,-1.0,2.0]|[0.0,0.0,20.0,0.0]|[0.0,0.0,1.0,0.0]|       2.0|\n",
      "|                 1|           -1|                2|[1.0,-1.0,2.0]|[0.0,0.0,20.0,0.0]|[0.0,0.0,1.0,0.0]|       2.0|\n",
      "|                 1|           -1|                2|[1.0,-1.0,2.0]|[0.0,0.0,20.0,0.0]|[0.0,0.0,1.0,0.0]|       2.0|\n",
      "|                 1|           -1|                2|[1.0,-1.0,2.0]|[0.0,0.0,20.0,0.0]|[0.0,0.0,1.0,0.0]|       2.0|\n",
      "|                 1|           -1|                2|[1.0,-1.0,2.0]|[0.0,0.0,20.0,0.0]|[0.0,0.0,1.0,0.0]|       2.0|\n",
      "|                 1|           -1|                2|[1.0,-1.0,2.0]|[0.0,0.0,20.0,0.0]|[0.0,0.0,1.0,0.0]|       2.0|\n",
      "|                 1|           -1|                2|[1.0,-1.0,2.0]|[0.0,0.0,20.0,0.0]|[0.0,0.0,1.0,0.0]|       2.0|\n",
      "|                 1|           -1|                2|[1.0,-1.0,2.0]|[0.0,0.0,20.0,0.0]|[0.0,0.0,1.0,0.0]|       2.0|\n",
      "|                 1|           -1|                2|[1.0,-1.0,2.0]|[0.0,0.0,20.0,0.0]|[0.0,0.0,1.0,0.0]|       2.0|\n",
      "+------------------+-------------+-----------------+--------------+------------------+-----------------+----------+\n",
      "only showing top 20 rows\n",
      "\n"
     ]
    }
   ],
   "source": [
    "rfc_predictions.show()"
   ]
  },
  {
   "cell_type": "code",
   "execution_count": 17,
   "metadata": {},
   "outputs": [],
   "source": [
    "from pyspark.ml.evaluation import MulticlassClassificationEvaluator"
   ]
  },
  {
   "cell_type": "code",
   "execution_count": 19,
   "metadata": {},
   "outputs": [],
   "source": [
    "acc_evaluator = MulticlassClassificationEvaluator(labelCol=\"accident_severity\", predictionCol=\"prediction\", metricName=\"accuracy\")"
   ]
  },
  {
   "cell_type": "code",
   "execution_count": 20,
   "metadata": {},
   "outputs": [],
   "source": [
    "rfc_acc = acc_evaluator.evaluate(rfc_predictions)"
   ]
  },
  {
   "cell_type": "code",
   "execution_count": 21,
   "metadata": {},
   "outputs": [
    {
     "name": "stdout",
     "output_type": "stream",
     "text": [
      "A random forest ensemble has an accuracy of: 100.00%\n"
     ]
    }
   ],
   "source": [
    "print('A random forest ensemble has an accuracy of: {0:2.2f}%'.format(rfc_acc*100))"
   ]
  },
  {
   "cell_type": "code",
   "execution_count": null,
   "metadata": {},
   "outputs": [],
   "source": []
  }
 ],
 "metadata": {
  "kernelspec": {
   "display_name": "Python 3",
   "language": "python",
   "name": "python3"
  },
  "language_info": {
   "codemirror_mode": {
    "name": "ipython",
    "version": 3
   },
   "file_extension": ".py",
   "mimetype": "text/x-python",
   "name": "python",
   "nbconvert_exporter": "python",
   "pygments_lexer": "ipython3",
   "version": "3.5.2"
  }
 },
 "nbformat": 4,
 "nbformat_minor": 2
}
