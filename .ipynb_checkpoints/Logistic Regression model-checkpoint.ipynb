{
 "cells": [
  {
   "cell_type": "code",
   "execution_count": 1,
   "metadata": {},
   "outputs": [],
   "source": [
    "import findspark\n",
    "findspark.init('/home/ubuntu/spark-2.1.1-bin-hadoop2.7')\n",
    "import pyspark\n",
    "from pyspark.sql import SparkSession\n",
    "spark = SparkSession.builder.appName('tree_methods_adv').getOrCreate()"
   ]
  },
  {
   "cell_type": "code",
   "execution_count": 2,
   "metadata": {},
   "outputs": [],
   "source": [
    "dataset = spark.read.csv('dataset.csv',inferSchema=True,header=True)"
   ]
  },
  {
   "cell_type": "code",
   "execution_count": 3,
   "metadata": {},
   "outputs": [
    {
     "name": "stdout",
     "output_type": "stream",
     "text": [
      "root\n",
      " |-- accident_index: string (nullable = true)\n",
      " |-- vehicle_reference: integer (nullable = true)\n",
      " |-- vehicle_type: integer (nullable = true)\n",
      " |-- towing_and_articulation: integer (nullable = true)\n",
      " |-- vehicle_manoeuvre: integer (nullable = true)\n",
      " |-- vehicle_location-restricted_lane: integer (nullable = true)\n",
      " |-- junction_location: integer (nullable = true)\n",
      " |-- skidding_and_overturning: integer (nullable = true)\n",
      " |-- hit_object_in_carriageway: integer (nullable = true)\n",
      " |-- vehicle_leaving_carriageway: integer (nullable = true)\n",
      " |-- hit_object_off_carriageway: integer (nullable = true)\n",
      " |-- 1st_point_of_impact: integer (nullable = true)\n",
      " |-- was_vehicle_left_hand_drive?: integer (nullable = true)\n",
      " |-- journey_purpose_of_driver: integer (nullable = true)\n",
      " |-- sex_of_driver: integer (nullable = true)\n",
      " |-- age_of_driver: integer (nullable = true)\n",
      " |-- age_band_of_driver: integer (nullable = true)\n",
      " |-- engine_capacity_(cc): integer (nullable = true)\n",
      " |-- propulsion_code: integer (nullable = true)\n",
      " |-- age_of_vehicle: integer (nullable = true)\n",
      " |-- driver_imd_decile: integer (nullable = true)\n",
      " |-- driver_home_area_type: integer (nullable = true)\n",
      " |-- vehicle_imd_decile: integer (nullable = true)\n",
      " |-- NUmber_of_Casualities_unique_to_accident_index: integer (nullable = true)\n",
      " |-- No_of_Vehicles_involved_unique_to_accident_index: integer (nullable = true)\n",
      " |-- location_easting_osgr: integer (nullable = true)\n",
      " |-- location_northing_osgr: decimal(6,0) (nullable = true)\n",
      " |-- longitude: double (nullable = true)\n",
      " |-- latitude: double (nullable = true)\n",
      " |-- police_force: integer (nullable = true)\n",
      " |-- accident_severity: integer (nullable = true)\n",
      " |-- number_of_vehicles: integer (nullable = true)\n",
      " |-- number_of_casualties: integer (nullable = true)\n",
      " |-- date: string (nullable = true)\n",
      " |-- day_of_week: integer (nullable = true)\n",
      " |-- time: timestamp (nullable = true)\n",
      " |-- local_authority_(district): integer (nullable = true)\n",
      " |-- local_authority_(highway): string (nullable = true)\n",
      " |-- 1st_road_class: integer (nullable = true)\n",
      " |-- 1st_road_number: integer (nullable = true)\n",
      " |-- road_type: integer (nullable = true)\n",
      " |-- speed_limit: integer (nullable = true)\n",
      " |-- junction_detail: integer (nullable = true)\n",
      " |-- junction_control: integer (nullable = true)\n",
      " |-- 2nd_road_class: integer (nullable = true)\n",
      " |-- 2nd_road_number: integer (nullable = true)\n",
      " |-- pedestrian_crossing-human_control: integer (nullable = true)\n",
      " |-- pedestrian_crossing-physical_facilities: integer (nullable = true)\n",
      " |-- light_conditions: integer (nullable = true)\n",
      " |-- weather_conditions: integer (nullable = true)\n",
      " |-- road_surface_conditions: integer (nullable = true)\n",
      " |-- special_conditions_at_site: integer (nullable = true)\n",
      " |-- carriageway_hazards: integer (nullable = true)\n",
      " |-- urban_or_rural_area: integer (nullable = true)\n",
      " |-- did_police_officer_attend_scene_of_accident: integer (nullable = true)\n",
      " |-- lsoa_of_accident_location: string (nullable = true)\n",
      " |-- casualty_reference: string (nullable = true)\n",
      " |-- casualty_class: string (nullable = true)\n",
      " |-- sex_of_casualty: string (nullable = true)\n",
      " |-- age_of_casualty: string (nullable = true)\n",
      " |-- age_band_of_casualty: string (nullable = true)\n",
      " |-- casualty_severity: string (nullable = true)\n",
      " |-- pedestrian_location: string (nullable = true)\n",
      " |-- pedestrian_movement: string (nullable = true)\n",
      " |-- car_passenger: string (nullable = true)\n",
      " |-- bus_or_coach_passenger: string (nullable = true)\n",
      " |-- pedestrian_road_maintenance_worker: string (nullable = true)\n",
      " |-- casualty_type: string (nullable = true)\n",
      " |-- casualty_home_area_type: string (nullable = true)\n",
      " |-- casualty_imd_decile: string (nullable = true)\n",
      "\n"
     ]
    },
    {
     "data": {
      "text/plain": [
       "['accident_index',\n",
       " 'vehicle_reference',\n",
       " 'vehicle_type',\n",
       " 'towing_and_articulation',\n",
       " 'vehicle_manoeuvre',\n",
       " 'vehicle_location-restricted_lane',\n",
       " 'junction_location',\n",
       " 'skidding_and_overturning',\n",
       " 'hit_object_in_carriageway',\n",
       " 'vehicle_leaving_carriageway',\n",
       " 'hit_object_off_carriageway',\n",
       " '1st_point_of_impact',\n",
       " 'was_vehicle_left_hand_drive?',\n",
       " 'journey_purpose_of_driver',\n",
       " 'sex_of_driver',\n",
       " 'age_of_driver',\n",
       " 'age_band_of_driver',\n",
       " 'engine_capacity_(cc)',\n",
       " 'propulsion_code',\n",
       " 'age_of_vehicle',\n",
       " 'driver_imd_decile',\n",
       " 'driver_home_area_type',\n",
       " 'vehicle_imd_decile',\n",
       " 'NUmber_of_Casualities_unique_to_accident_index',\n",
       " 'No_of_Vehicles_involved_unique_to_accident_index',\n",
       " 'location_easting_osgr',\n",
       " 'location_northing_osgr',\n",
       " 'longitude',\n",
       " 'latitude',\n",
       " 'police_force',\n",
       " 'accident_severity',\n",
       " 'number_of_vehicles',\n",
       " 'number_of_casualties',\n",
       " 'date',\n",
       " 'day_of_week',\n",
       " 'time',\n",
       " 'local_authority_(district)',\n",
       " 'local_authority_(highway)',\n",
       " '1st_road_class',\n",
       " '1st_road_number',\n",
       " 'road_type',\n",
       " 'speed_limit',\n",
       " 'junction_detail',\n",
       " 'junction_control',\n",
       " '2nd_road_class',\n",
       " '2nd_road_number',\n",
       " 'pedestrian_crossing-human_control',\n",
       " 'pedestrian_crossing-physical_facilities',\n",
       " 'light_conditions',\n",
       " 'weather_conditions',\n",
       " 'road_surface_conditions',\n",
       " 'special_conditions_at_site',\n",
       " 'carriageway_hazards',\n",
       " 'urban_or_rural_area',\n",
       " 'did_police_officer_attend_scene_of_accident',\n",
       " 'lsoa_of_accident_location',\n",
       " 'casualty_reference',\n",
       " 'casualty_class',\n",
       " 'sex_of_casualty',\n",
       " 'age_of_casualty',\n",
       " 'age_band_of_casualty',\n",
       " 'casualty_severity',\n",
       " 'pedestrian_location',\n",
       " 'pedestrian_movement',\n",
       " 'car_passenger',\n",
       " 'bus_or_coach_passenger',\n",
       " 'pedestrian_road_maintenance_worker',\n",
       " 'casualty_type',\n",
       " 'casualty_home_area_type',\n",
       " 'casualty_imd_decile']"
      ]
     },
     "execution_count": 3,
     "metadata": {},
     "output_type": "execute_result"
    }
   ],
   "source": [
    "# Print data schema.\n",
    "dataset.printSchema()\n",
    "\n",
    "# Print data columns.\n",
    "dataset.columns"
   ]
  },
  {
   "cell_type": "code",
   "execution_count": 41,
   "metadata": {},
   "outputs": [],
   "source": [
    "my_cols = dataset.select([ 'weather_conditions','age_of_driver','accident_severity' ])"
   ]
  },
  {
   "cell_type": "code",
   "execution_count": 42,
   "metadata": {},
   "outputs": [],
   "source": [
    "finaldata = my_cols.na.drop()"
   ]
  },
  {
   "cell_type": "code",
   "execution_count": 43,
   "metadata": {},
   "outputs": [],
   "source": [
    "from pyspark.ml.feature import (VectorAssembler,VectorIndexer,\n",
    "                                OneHotEncoder,StringIndexer)"
   ]
  },
  {
   "cell_type": "markdown",
   "metadata": {},
   "source": [
    "Data Transformation"
   ]
  },
  {
   "cell_type": "code",
   "execution_count": 44,
   "metadata": {},
   "outputs": [],
   "source": [
    "assembler = VectorAssembler(inputCols=[ 'weather_conditions','age_of_driver','accident_severity'],outputCol='features')"
   ]
  },
  {
   "cell_type": "code",
   "execution_count": 45,
   "metadata": {},
   "outputs": [],
   "source": [
    "from pyspark.ml.classification import LogisticRegression"
   ]
  },
  {
   "cell_type": "code",
   "execution_count": 46,
   "metadata": {},
   "outputs": [],
   "source": [
    "from pyspark.ml import Pipeline"
   ]
  },
  {
   "cell_type": "code",
   "execution_count": 47,
   "metadata": {},
   "outputs": [],
   "source": [
    "regmodel = LogisticRegression(featuresCol='features',labelCol='accident_severity')"
   ]
  },
  {
   "cell_type": "code",
   "execution_count": 48,
   "metadata": {},
   "outputs": [],
   "source": [
    "pipeline = Pipeline(stages=[assembler,regmodel])"
   ]
  },
  {
   "cell_type": "code",
   "execution_count": 49,
   "metadata": {},
   "outputs": [],
   "source": [
    "train_titanic_data, test_titanic_data = finaldata.randomSplit([0.75,0.25])"
   ]
  },
  {
   "cell_type": "code",
   "execution_count": 50,
   "metadata": {},
   "outputs": [],
   "source": [
    "fitmodel = pipeline.fit(train_titanic_data)"
   ]
  },
  {
   "cell_type": "code",
   "execution_count": 52,
   "metadata": {},
   "outputs": [],
   "source": [
    "results = fitmodel.transform(test_titanic_data)"
   ]
  },
  {
   "cell_type": "code",
   "execution_count": 53,
   "metadata": {},
   "outputs": [],
   "source": [
    "from pyspark.ml.evaluation import BinaryClassificationEvaluator\n",
    "\n",
    "my_eval = BinaryClassificationEvaluator(rawPredictionCol='prediction',\n",
    "                                       labelCol='accident_severity')"
   ]
  },
  {
   "cell_type": "code",
   "execution_count": 54,
   "metadata": {},
   "outputs": [
    {
     "name": "stdout",
     "output_type": "stream",
     "text": [
      "+-----------------+----------+\n",
      "|accident_severity|prediction|\n",
      "+-----------------+----------+\n",
      "|                2|       2.0|\n",
      "|                2|       2.0|\n",
      "|                2|       2.0|\n",
      "|                2|       2.0|\n",
      "|                2|       2.0|\n",
      "|                2|       2.0|\n",
      "|                2|       2.0|\n",
      "|                2|       2.0|\n",
      "|                2|       2.0|\n",
      "|                2|       2.0|\n",
      "|                2|       2.0|\n",
      "|                2|       2.0|\n",
      "|                2|       2.0|\n",
      "|                2|       2.0|\n",
      "|                2|       2.0|\n",
      "|                2|       2.0|\n",
      "|                2|       2.0|\n",
      "|                2|       2.0|\n",
      "|                2|       2.0|\n",
      "|                2|       2.0|\n",
      "+-----------------+----------+\n",
      "only showing top 20 rows\n",
      "\n"
     ]
    }
   ],
   "source": [
    "results.select('accident_severity','prediction').show()"
   ]
  },
  {
   "cell_type": "code",
   "execution_count": 55,
   "metadata": {},
   "outputs": [
    {
     "data": {
      "text/plain": [
       "1.0"
      ]
     },
     "execution_count": 55,
     "metadata": {},
     "output_type": "execute_result"
    }
   ],
   "source": [
    "AUC = my_eval.evaluate(results)\n",
    "\n",
    "AUC"
   ]
  },
  {
   "cell_type": "code",
   "execution_count": null,
   "metadata": {},
   "outputs": [],
   "source": []
  }
 ],
 "metadata": {
  "kernelspec": {
   "display_name": "Python 3",
   "language": "python",
   "name": "python3"
  },
  "language_info": {
   "codemirror_mode": {
    "name": "ipython",
    "version": 3
   },
   "file_extension": ".py",
   "mimetype": "text/x-python",
   "name": "python",
   "nbconvert_exporter": "python",
   "pygments_lexer": "ipython3",
   "version": "3.5.2"
  }
 },
 "nbformat": 4,
 "nbformat_minor": 2
}
