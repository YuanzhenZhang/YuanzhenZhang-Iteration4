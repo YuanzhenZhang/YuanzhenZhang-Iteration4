{
 "cells": [
  {
   "cell_type": "code",
   "execution_count": 1,
   "metadata": {},
   "outputs": [],
   "source": [
    "import findspark\n",
    "findspark.init('/home/ubuntu/spark-2.1.1-bin-hadoop2.7')\n",
    "import pyspark\n",
    "from pyspark.sql import *\n",
    "spark = SparkSession.builder.appName('logistic_regression_adv').getOrCreate()\n",
    "from pyspark.ml.classification import LogisticRegression\n",
    "import pandas as pd\n",
    "from pyspark.ml.feature import (VectorAssembler,VectorIndexer,\n",
    "                                OneHotEncoder,StringIndexer)"
   ]
  },
  {
   "cell_type": "code",
   "execution_count": 2,
   "metadata": {},
   "outputs": [],
   "source": [
    "dataset = pd.read_csv(\"dataset.csv\")"
   ]
  },
  {
   "cell_type": "markdown",
   "metadata": {},
   "source": [
    "Explore Data"
   ]
  },
  {
   "cell_type": "code",
   "execution_count": 3,
   "metadata": {},
   "outputs": [
    {
     "name": "stdout",
     "output_type": "stream",
     "text": [
      "root\n",
      " |-- accident_index: string (nullable = true)\n",
      " |-- vehicle_reference: integer (nullable = true)\n",
      " |-- vehicle_type: integer (nullable = true)\n",
      " |-- towing_and_articulation: integer (nullable = true)\n",
      " |-- vehicle_manoeuvre: integer (nullable = true)\n",
      " |-- vehicle_location-restricted_lane: integer (nullable = true)\n",
      " |-- junction_location: integer (nullable = true)\n",
      " |-- skidding_and_overturning: integer (nullable = true)\n",
      " |-- hit_object_in_carriageway: integer (nullable = true)\n",
      " |-- vehicle_leaving_carriageway: integer (nullable = true)\n",
      " |-- hit_object_off_carriageway: integer (nullable = true)\n",
      " |-- 1st_point_of_impact: integer (nullable = true)\n",
      " |-- was_vehicle_left_hand_drive?: integer (nullable = true)\n",
      " |-- journey_purpose_of_driver: integer (nullable = true)\n",
      " |-- sex_of_driver: integer (nullable = true)\n",
      " |-- age_of_driver: integer (nullable = true)\n",
      " |-- age_band_of_driver: integer (nullable = true)\n",
      " |-- engine_capacity_(cc): integer (nullable = true)\n",
      " |-- propulsion_code: integer (nullable = true)\n",
      " |-- age_of_vehicle: integer (nullable = true)\n",
      " |-- driver_imd_decile: integer (nullable = true)\n",
      " |-- driver_home_area_type: integer (nullable = true)\n",
      " |-- vehicle_imd_decile: integer (nullable = true)\n",
      " |-- NUmber_of_Casualities_unique_to_accident_index: integer (nullable = true)\n",
      " |-- No_of_Vehicles_involved_unique_to_accident_index: integer (nullable = true)\n",
      " |-- location_easting_osgr: integer (nullable = true)\n",
      " |-- location_northing_osgr: decimal(6,0) (nullable = true)\n",
      " |-- longitude: double (nullable = true)\n",
      " |-- latitude: double (nullable = true)\n",
      " |-- police_force: integer (nullable = true)\n",
      " |-- accident_severity: integer (nullable = true)\n",
      " |-- number_of_vehicles: integer (nullable = true)\n",
      " |-- number_of_casualties: integer (nullable = true)\n",
      " |-- date: string (nullable = true)\n",
      " |-- day_of_week: integer (nullable = true)\n",
      " |-- time: timestamp (nullable = true)\n",
      " |-- local_authority_(district): integer (nullable = true)\n",
      " |-- local_authority_(highway): string (nullable = true)\n",
      " |-- 1st_road_class: integer (nullable = true)\n",
      " |-- 1st_road_number: integer (nullable = true)\n",
      " |-- road_type: integer (nullable = true)\n",
      " |-- speed_limit: integer (nullable = true)\n",
      " |-- junction_detail: integer (nullable = true)\n",
      " |-- junction_control: integer (nullable = true)\n",
      " |-- 2nd_road_class: integer (nullable = true)\n",
      " |-- 2nd_road_number: integer (nullable = true)\n",
      " |-- pedestrian_crossing-human_control: integer (nullable = true)\n",
      " |-- pedestrian_crossing-physical_facilities: integer (nullable = true)\n",
      " |-- light_conditions: integer (nullable = true)\n",
      " |-- weather_conditions: integer (nullable = true)\n",
      " |-- road_surface_conditions: integer (nullable = true)\n",
      " |-- special_conditions_at_site: integer (nullable = true)\n",
      " |-- carriageway_hazards: integer (nullable = true)\n",
      " |-- urban_or_rural_area: integer (nullable = true)\n",
      " |-- did_police_officer_attend_scene_of_accident: integer (nullable = true)\n",
      " |-- lsoa_of_accident_location: string (nullable = true)\n",
      " |-- casualty_reference: string (nullable = true)\n",
      " |-- casualty_class: string (nullable = true)\n",
      " |-- sex_of_casualty: string (nullable = true)\n",
      " |-- age_of_casualty: string (nullable = true)\n",
      " |-- age_band_of_casualty: string (nullable = true)\n",
      " |-- casualty_severity: string (nullable = true)\n",
      " |-- pedestrian_location: string (nullable = true)\n",
      " |-- pedestrian_movement: string (nullable = true)\n",
      " |-- car_passenger: string (nullable = true)\n",
      " |-- bus_or_coach_passenger: string (nullable = true)\n",
      " |-- pedestrian_road_maintenance_worker: string (nullable = true)\n",
      " |-- casualty_type: string (nullable = true)\n",
      " |-- casualty_home_area_type: string (nullable = true)\n",
      " |-- casualty_imd_decile: string (nullable = true)\n",
      "\n"
     ]
    }
   ],
   "source": [
    "df = spark.read.csv('dataset.csv', inferSchema=True, header=True)\n",
    "df.printSchema()"
   ]
  },
  {
   "cell_type": "code",
   "execution_count": 4,
   "metadata": {},
   "outputs": [
    {
     "name": "stdout",
     "output_type": "stream",
     "text": [
      "(14999, 70)\n"
     ]
    }
   ],
   "source": [
    "print(dataset.shape)"
   ]
  },
  {
   "cell_type": "code",
   "execution_count": 5,
   "metadata": {},
   "outputs": [
    {
     "data": {
      "text/plain": [
       "['accident_index',\n",
       " 'vehicle_reference',\n",
       " 'vehicle_type',\n",
       " 'towing_and_articulation',\n",
       " 'vehicle_manoeuvre',\n",
       " 'vehicle_location-restricted_lane',\n",
       " 'junction_location',\n",
       " 'skidding_and_overturning',\n",
       " 'hit_object_in_carriageway',\n",
       " 'vehicle_leaving_carriageway',\n",
       " 'hit_object_off_carriageway',\n",
       " '1st_point_of_impact',\n",
       " 'was_vehicle_left_hand_drive?',\n",
       " 'journey_purpose_of_driver',\n",
       " 'sex_of_driver',\n",
       " 'age_of_driver',\n",
       " 'age_band_of_driver',\n",
       " 'engine_capacity_(cc)',\n",
       " 'propulsion_code',\n",
       " 'age_of_vehicle',\n",
       " 'driver_imd_decile',\n",
       " 'driver_home_area_type',\n",
       " 'vehicle_imd_decile',\n",
       " 'NUmber_of_Casualities_unique_to_accident_index',\n",
       " 'No_of_Vehicles_involved_unique_to_accident_index',\n",
       " 'location_easting_osgr',\n",
       " 'location_northing_osgr',\n",
       " 'longitude',\n",
       " 'latitude',\n",
       " 'police_force',\n",
       " 'accident_severity',\n",
       " 'number_of_vehicles',\n",
       " 'number_of_casualties',\n",
       " 'date',\n",
       " 'day_of_week',\n",
       " 'time',\n",
       " 'local_authority_(district)',\n",
       " 'local_authority_(highway)',\n",
       " '1st_road_class',\n",
       " '1st_road_number',\n",
       " 'road_type',\n",
       " 'speed_limit',\n",
       " 'junction_detail',\n",
       " 'junction_control',\n",
       " '2nd_road_class',\n",
       " '2nd_road_number',\n",
       " 'pedestrian_crossing-human_control',\n",
       " 'pedestrian_crossing-physical_facilities',\n",
       " 'light_conditions',\n",
       " 'weather_conditions',\n",
       " 'road_surface_conditions',\n",
       " 'special_conditions_at_site',\n",
       " 'carriageway_hazards',\n",
       " 'urban_or_rural_area',\n",
       " 'did_police_officer_attend_scene_of_accident',\n",
       " 'lsoa_of_accident_location',\n",
       " 'casualty_reference',\n",
       " 'casualty_class',\n",
       " 'sex_of_casualty',\n",
       " 'age_of_casualty',\n",
       " 'age_band_of_casualty',\n",
       " 'casualty_severity',\n",
       " 'pedestrian_location',\n",
       " 'pedestrian_movement',\n",
       " 'car_passenger',\n",
       " 'bus_or_coach_passenger',\n",
       " 'pedestrian_road_maintenance_worker',\n",
       " 'casualty_type',\n",
       " 'casualty_home_area_type',\n",
       " 'casualty_imd_decile']"
      ]
     },
     "execution_count": 5,
     "metadata": {},
     "output_type": "execute_result"
    }
   ],
   "source": [
    "df.columns"
   ]
  },
  {
   "cell_type": "code",
   "execution_count": 6,
   "metadata": {},
   "outputs": [
    {
     "data": {
      "text/html": [
       "<div>\n",
       "<style scoped>\n",
       "    .dataframe tbody tr th:only-of-type {\n",
       "        vertical-align: middle;\n",
       "    }\n",
       "\n",
       "    .dataframe tbody tr th {\n",
       "        vertical-align: top;\n",
       "    }\n",
       "\n",
       "    .dataframe thead th {\n",
       "        text-align: right;\n",
       "    }\n",
       "</style>\n",
       "<table border=\"1\" class=\"dataframe\">\n",
       "  <thead>\n",
       "    <tr style=\"text-align: right;\">\n",
       "      <th></th>\n",
       "      <th>accident_index</th>\n",
       "      <th>vehicle_reference</th>\n",
       "      <th>vehicle_type</th>\n",
       "      <th>towing_and_articulation</th>\n",
       "      <th>vehicle_manoeuvre</th>\n",
       "      <th>vehicle_location-restricted_lane</th>\n",
       "      <th>junction_location</th>\n",
       "      <th>skidding_and_overturning</th>\n",
       "      <th>hit_object_in_carriageway</th>\n",
       "      <th>vehicle_leaving_carriageway</th>\n",
       "      <th>...</th>\n",
       "      <th>age_band_of_casualty</th>\n",
       "      <th>casualty_severity</th>\n",
       "      <th>pedestrian_location</th>\n",
       "      <th>pedestrian_movement</th>\n",
       "      <th>car_passenger</th>\n",
       "      <th>bus_or_coach_passenger</th>\n",
       "      <th>pedestrian_road_maintenance_worker</th>\n",
       "      <th>casualty_type</th>\n",
       "      <th>casualty_home_area_type</th>\n",
       "      <th>casualty_imd_decile</th>\n",
       "    </tr>\n",
       "  </thead>\n",
       "  <tbody>\n",
       "    <tr>\n",
       "      <th>0</th>\n",
       "      <td>201506E098757</td>\n",
       "      <td>2.0</td>\n",
       "      <td>9.0</td>\n",
       "      <td>0.0</td>\n",
       "      <td>18.0</td>\n",
       "      <td>0.0</td>\n",
       "      <td>8.0</td>\n",
       "      <td>0.0</td>\n",
       "      <td>0.0</td>\n",
       "      <td>0.0</td>\n",
       "      <td>...</td>\n",
       "      <td>NaN</td>\n",
       "      <td>NaN</td>\n",
       "      <td>NaN</td>\n",
       "      <td>NaN</td>\n",
       "      <td>NaN</td>\n",
       "      <td>NaN</td>\n",
       "      <td>NaN</td>\n",
       "      <td>NaN</td>\n",
       "      <td>NaN</td>\n",
       "      <td>NaN</td>\n",
       "    </tr>\n",
       "    <tr>\n",
       "      <th>1</th>\n",
       "      <td>201506E098766</td>\n",
       "      <td>1.0</td>\n",
       "      <td>9.0</td>\n",
       "      <td>0.0</td>\n",
       "      <td>9.0</td>\n",
       "      <td>0.0</td>\n",
       "      <td>8.0</td>\n",
       "      <td>0.0</td>\n",
       "      <td>0.0</td>\n",
       "      <td>0.0</td>\n",
       "      <td>...</td>\n",
       "      <td>NaN</td>\n",
       "      <td>NaN</td>\n",
       "      <td>NaN</td>\n",
       "      <td>NaN</td>\n",
       "      <td>NaN</td>\n",
       "      <td>NaN</td>\n",
       "      <td>NaN</td>\n",
       "      <td>NaN</td>\n",
       "      <td>NaN</td>\n",
       "      <td>NaN</td>\n",
       "    </tr>\n",
       "    <tr>\n",
       "      <th>2</th>\n",
       "      <td>201506E098766</td>\n",
       "      <td>2.0</td>\n",
       "      <td>9.0</td>\n",
       "      <td>0.0</td>\n",
       "      <td>18.0</td>\n",
       "      <td>0.0</td>\n",
       "      <td>8.0</td>\n",
       "      <td>0.0</td>\n",
       "      <td>0.0</td>\n",
       "      <td>0.0</td>\n",
       "      <td>...</td>\n",
       "      <td>8.0</td>\n",
       "      <td>3.0</td>\n",
       "      <td>0.0</td>\n",
       "      <td>0.0</td>\n",
       "      <td>0.0</td>\n",
       "      <td>0.0</td>\n",
       "      <td>0.0</td>\n",
       "      <td>9.0</td>\n",
       "      <td>1.0</td>\n",
       "      <td>3.0</td>\n",
       "    </tr>\n",
       "    <tr>\n",
       "      <th>3</th>\n",
       "      <td>201506E098777</td>\n",
       "      <td>1.0</td>\n",
       "      <td>20.0</td>\n",
       "      <td>0.0</td>\n",
       "      <td>4.0</td>\n",
       "      <td>0.0</td>\n",
       "      <td>0.0</td>\n",
       "      <td>0.0</td>\n",
       "      <td>0.0</td>\n",
       "      <td>0.0</td>\n",
       "      <td>...</td>\n",
       "      <td>6.0</td>\n",
       "      <td>3.0</td>\n",
       "      <td>1.0</td>\n",
       "      <td>1.0</td>\n",
       "      <td>0.0</td>\n",
       "      <td>0.0</td>\n",
       "      <td>0.0</td>\n",
       "      <td>0.0</td>\n",
       "      <td>1.0</td>\n",
       "      <td>1.0</td>\n",
       "    </tr>\n",
       "    <tr>\n",
       "      <th>4</th>\n",
       "      <td>201506E098780</td>\n",
       "      <td>1.0</td>\n",
       "      <td>9.0</td>\n",
       "      <td>0.0</td>\n",
       "      <td>15.0</td>\n",
       "      <td>0.0</td>\n",
       "      <td>1.0</td>\n",
       "      <td>0.0</td>\n",
       "      <td>0.0</td>\n",
       "      <td>0.0</td>\n",
       "      <td>...</td>\n",
       "      <td>NaN</td>\n",
       "      <td>NaN</td>\n",
       "      <td>NaN</td>\n",
       "      <td>NaN</td>\n",
       "      <td>NaN</td>\n",
       "      <td>NaN</td>\n",
       "      <td>NaN</td>\n",
       "      <td>NaN</td>\n",
       "      <td>NaN</td>\n",
       "      <td>NaN</td>\n",
       "    </tr>\n",
       "  </tbody>\n",
       "</table>\n",
       "<p>5 rows × 70 columns</p>\n",
       "</div>"
      ],
      "text/plain": [
       "  accident_index  vehicle_reference  vehicle_type  towing_and_articulation  \\\n",
       "0  201506E098757                2.0           9.0                      0.0   \n",
       "1  201506E098766                1.0           9.0                      0.0   \n",
       "2  201506E098766                2.0           9.0                      0.0   \n",
       "3  201506E098777                1.0          20.0                      0.0   \n",
       "4  201506E098780                1.0           9.0                      0.0   \n",
       "\n",
       "   vehicle_manoeuvre  vehicle_location-restricted_lane  junction_location  \\\n",
       "0               18.0                               0.0                8.0   \n",
       "1                9.0                               0.0                8.0   \n",
       "2               18.0                               0.0                8.0   \n",
       "3                4.0                               0.0                0.0   \n",
       "4               15.0                               0.0                1.0   \n",
       "\n",
       "   skidding_and_overturning  hit_object_in_carriageway  \\\n",
       "0                       0.0                        0.0   \n",
       "1                       0.0                        0.0   \n",
       "2                       0.0                        0.0   \n",
       "3                       0.0                        0.0   \n",
       "4                       0.0                        0.0   \n",
       "\n",
       "   vehicle_leaving_carriageway         ...           age_band_of_casualty  \\\n",
       "0                          0.0         ...                            NaN   \n",
       "1                          0.0         ...                            NaN   \n",
       "2                          0.0         ...                            8.0   \n",
       "3                          0.0         ...                            6.0   \n",
       "4                          0.0         ...                            NaN   \n",
       "\n",
       "   casualty_severity  pedestrian_location  pedestrian_movement  car_passenger  \\\n",
       "0                NaN                  NaN                  NaN            NaN   \n",
       "1                NaN                  NaN                  NaN            NaN   \n",
       "2                3.0                  0.0                  0.0            0.0   \n",
       "3                3.0                  1.0                  1.0            0.0   \n",
       "4                NaN                  NaN                  NaN            NaN   \n",
       "\n",
       "   bus_or_coach_passenger  pedestrian_road_maintenance_worker  casualty_type  \\\n",
       "0                     NaN                                 NaN            NaN   \n",
       "1                     NaN                                 NaN            NaN   \n",
       "2                     0.0                                 0.0            9.0   \n",
       "3                     0.0                                 0.0            0.0   \n",
       "4                     NaN                                 NaN            NaN   \n",
       "\n",
       "   casualty_home_area_type  casualty_imd_decile  \n",
       "0                      NaN                  NaN  \n",
       "1                      NaN                  NaN  \n",
       "2                      1.0                  3.0  \n",
       "3                      1.0                  1.0  \n",
       "4                      NaN                  NaN  \n",
       "\n",
       "[5 rows x 70 columns]"
      ]
     },
     "execution_count": 6,
     "metadata": {},
     "output_type": "execute_result"
    }
   ],
   "source": [
    "dataset.head(n=5)"
   ]
  },
  {
   "cell_type": "code",
   "execution_count": 7,
   "metadata": {},
   "outputs": [
    {
     "data": {
      "text/html": [
       "<div>\n",
       "<style scoped>\n",
       "    .dataframe tbody tr th:only-of-type {\n",
       "        vertical-align: middle;\n",
       "    }\n",
       "\n",
       "    .dataframe tbody tr th {\n",
       "        vertical-align: top;\n",
       "    }\n",
       "\n",
       "    .dataframe thead th {\n",
       "        text-align: right;\n",
       "    }\n",
       "</style>\n",
       "<table border=\"1\" class=\"dataframe\">\n",
       "  <thead>\n",
       "    <tr style=\"text-align: right;\">\n",
       "      <th></th>\n",
       "      <th>accident_index</th>\n",
       "      <th>vehicle_reference</th>\n",
       "      <th>vehicle_type</th>\n",
       "      <th>towing_and_articulation</th>\n",
       "      <th>vehicle_manoeuvre</th>\n",
       "      <th>vehicle_location-restricted_lane</th>\n",
       "      <th>junction_location</th>\n",
       "      <th>skidding_and_overturning</th>\n",
       "      <th>hit_object_in_carriageway</th>\n",
       "      <th>vehicle_leaving_carriageway</th>\n",
       "      <th>...</th>\n",
       "      <th>age_band_of_casualty</th>\n",
       "      <th>casualty_severity</th>\n",
       "      <th>pedestrian_location</th>\n",
       "      <th>pedestrian_movement</th>\n",
       "      <th>car_passenger</th>\n",
       "      <th>bus_or_coach_passenger</th>\n",
       "      <th>pedestrian_road_maintenance_worker</th>\n",
       "      <th>casualty_type</th>\n",
       "      <th>casualty_home_area_type</th>\n",
       "      <th>casualty_imd_decile</th>\n",
       "    </tr>\n",
       "  </thead>\n",
       "  <tbody>\n",
       "    <tr>\n",
       "      <th>0</th>\n",
       "      <td>201506E098757</td>\n",
       "      <td>2.0</td>\n",
       "      <td>9.0</td>\n",
       "      <td>0.0</td>\n",
       "      <td>18.0</td>\n",
       "      <td>0.0</td>\n",
       "      <td>8.0</td>\n",
       "      <td>0.0</td>\n",
       "      <td>0.0</td>\n",
       "      <td>0.0</td>\n",
       "      <td>...</td>\n",
       "      <td>NaN</td>\n",
       "      <td>NaN</td>\n",
       "      <td>NaN</td>\n",
       "      <td>NaN</td>\n",
       "      <td>NaN</td>\n",
       "      <td>NaN</td>\n",
       "      <td>NaN</td>\n",
       "      <td>NaN</td>\n",
       "      <td>NaN</td>\n",
       "      <td>NaN</td>\n",
       "    </tr>\n",
       "  </tbody>\n",
       "</table>\n",
       "<p>1 rows × 70 columns</p>\n",
       "</div>"
      ],
      "text/plain": [
       "  accident_index  vehicle_reference  vehicle_type  towing_and_articulation  \\\n",
       "0  201506E098757                2.0           9.0                      0.0   \n",
       "\n",
       "   vehicle_manoeuvre  vehicle_location-restricted_lane  junction_location  \\\n",
       "0               18.0                               0.0                8.0   \n",
       "\n",
       "   skidding_and_overturning  hit_object_in_carriageway  \\\n",
       "0                       0.0                        0.0   \n",
       "\n",
       "   vehicle_leaving_carriageway         ...           age_band_of_casualty  \\\n",
       "0                          0.0         ...                            NaN   \n",
       "\n",
       "   casualty_severity  pedestrian_location  pedestrian_movement  car_passenger  \\\n",
       "0                NaN                  NaN                  NaN            NaN   \n",
       "\n",
       "   bus_or_coach_passenger  pedestrian_road_maintenance_worker  casualty_type  \\\n",
       "0                     NaN                                 NaN            NaN   \n",
       "\n",
       "   casualty_home_area_type  casualty_imd_decile  \n",
       "0                      NaN                  NaN  \n",
       "\n",
       "[1 rows x 70 columns]"
      ]
     },
     "execution_count": 7,
     "metadata": {},
     "output_type": "execute_result"
    }
   ],
   "source": [
    "dataset.head(1)"
   ]
  },
  {
   "cell_type": "code",
   "execution_count": 8,
   "metadata": {},
   "outputs": [
    {
     "data": {
      "text/html": [
       "<div>\n",
       "<style scoped>\n",
       "    .dataframe tbody tr th:only-of-type {\n",
       "        vertical-align: middle;\n",
       "    }\n",
       "\n",
       "    .dataframe tbody tr th {\n",
       "        vertical-align: top;\n",
       "    }\n",
       "\n",
       "    .dataframe thead th {\n",
       "        text-align: right;\n",
       "    }\n",
       "</style>\n",
       "<table border=\"1\" class=\"dataframe\">\n",
       "  <thead>\n",
       "    <tr style=\"text-align: right;\">\n",
       "      <th></th>\n",
       "      <th>accident_index</th>\n",
       "      <th>vehicle_reference</th>\n",
       "      <th>vehicle_type</th>\n",
       "      <th>towing_and_articulation</th>\n",
       "      <th>vehicle_manoeuvre</th>\n",
       "      <th>vehicle_location-restricted_lane</th>\n",
       "      <th>junction_location</th>\n",
       "      <th>skidding_and_overturning</th>\n",
       "      <th>hit_object_in_carriageway</th>\n",
       "      <th>vehicle_leaving_carriageway</th>\n",
       "      <th>...</th>\n",
       "      <th>age_band_of_casualty</th>\n",
       "      <th>casualty_severity</th>\n",
       "      <th>pedestrian_location</th>\n",
       "      <th>pedestrian_movement</th>\n",
       "      <th>car_passenger</th>\n",
       "      <th>bus_or_coach_passenger</th>\n",
       "      <th>pedestrian_road_maintenance_worker</th>\n",
       "      <th>casualty_type</th>\n",
       "      <th>casualty_home_area_type</th>\n",
       "      <th>casualty_imd_decile</th>\n",
       "    </tr>\n",
       "  </thead>\n",
       "  <tbody>\n",
       "    <tr>\n",
       "      <th>14994</th>\n",
       "      <td>201501HT20988</td>\n",
       "      <td>1.0</td>\n",
       "      <td>5.0</td>\n",
       "      <td>0.0</td>\n",
       "      <td>18.0</td>\n",
       "      <td>0.0</td>\n",
       "      <td>2.0</td>\n",
       "      <td>0.0</td>\n",
       "      <td>0.0</td>\n",
       "      <td>0.0</td>\n",
       "      <td>...</td>\n",
       "      <td>4.0</td>\n",
       "      <td>3.0</td>\n",
       "      <td>5.0</td>\n",
       "      <td>4.0</td>\n",
       "      <td>0.0</td>\n",
       "      <td>0.0</td>\n",
       "      <td>2.0</td>\n",
       "      <td>0.0</td>\n",
       "      <td>-1.0</td>\n",
       "      <td>-1.0</td>\n",
       "    </tr>\n",
       "    <tr>\n",
       "      <th>14995</th>\n",
       "      <td>201501HT20990</td>\n",
       "      <td>1.0</td>\n",
       "      <td>4.0</td>\n",
       "      <td>0.0</td>\n",
       "      <td>18.0</td>\n",
       "      <td>0.0</td>\n",
       "      <td>0.0</td>\n",
       "      <td>0.0</td>\n",
       "      <td>0.0</td>\n",
       "      <td>0.0</td>\n",
       "      <td>...</td>\n",
       "      <td>7.0</td>\n",
       "      <td>3.0</td>\n",
       "      <td>0.0</td>\n",
       "      <td>0.0</td>\n",
       "      <td>0.0</td>\n",
       "      <td>0.0</td>\n",
       "      <td>0.0</td>\n",
       "      <td>4.0</td>\n",
       "      <td>1.0</td>\n",
       "      <td>6.0</td>\n",
       "    </tr>\n",
       "    <tr>\n",
       "      <th>14996</th>\n",
       "      <td>201501HT20990</td>\n",
       "      <td>2.0</td>\n",
       "      <td>9.0</td>\n",
       "      <td>0.0</td>\n",
       "      <td>12.0</td>\n",
       "      <td>0.0</td>\n",
       "      <td>0.0</td>\n",
       "      <td>0.0</td>\n",
       "      <td>0.0</td>\n",
       "      <td>0.0</td>\n",
       "      <td>...</td>\n",
       "      <td>NaN</td>\n",
       "      <td>NaN</td>\n",
       "      <td>NaN</td>\n",
       "      <td>NaN</td>\n",
       "      <td>NaN</td>\n",
       "      <td>NaN</td>\n",
       "      <td>NaN</td>\n",
       "      <td>NaN</td>\n",
       "      <td>NaN</td>\n",
       "      <td>NaN</td>\n",
       "    </tr>\n",
       "    <tr>\n",
       "      <th>14997</th>\n",
       "      <td>201501HT20991</td>\n",
       "      <td>1.0</td>\n",
       "      <td>9.0</td>\n",
       "      <td>0.0</td>\n",
       "      <td>18.0</td>\n",
       "      <td>9.0</td>\n",
       "      <td>1.0</td>\n",
       "      <td>0.0</td>\n",
       "      <td>10.0</td>\n",
       "      <td>1.0</td>\n",
       "      <td>...</td>\n",
       "      <td>5.0</td>\n",
       "      <td>3.0</td>\n",
       "      <td>6.0</td>\n",
       "      <td>9.0</td>\n",
       "      <td>0.0</td>\n",
       "      <td>0.0</td>\n",
       "      <td>2.0</td>\n",
       "      <td>0.0</td>\n",
       "      <td>1.0</td>\n",
       "      <td>2.0</td>\n",
       "    </tr>\n",
       "    <tr>\n",
       "      <th>14998</th>\n",
       "      <td>NaN</td>\n",
       "      <td>NaN</td>\n",
       "      <td>NaN</td>\n",
       "      <td>NaN</td>\n",
       "      <td>NaN</td>\n",
       "      <td>NaN</td>\n",
       "      <td>NaN</td>\n",
       "      <td>NaN</td>\n",
       "      <td>NaN</td>\n",
       "      <td>NaN</td>\n",
       "      <td>...</td>\n",
       "      <td>NaN</td>\n",
       "      <td>NaN</td>\n",
       "      <td>NaN</td>\n",
       "      <td>NaN</td>\n",
       "      <td>NaN</td>\n",
       "      <td>NaN</td>\n",
       "      <td>NaN</td>\n",
       "      <td>NaN</td>\n",
       "      <td>NaN</td>\n",
       "      <td>NaN</td>\n",
       "    </tr>\n",
       "  </tbody>\n",
       "</table>\n",
       "<p>5 rows × 70 columns</p>\n",
       "</div>"
      ],
      "text/plain": [
       "      accident_index  vehicle_reference  vehicle_type  \\\n",
       "14994  201501HT20988                1.0           5.0   \n",
       "14995  201501HT20990                1.0           4.0   \n",
       "14996  201501HT20990                2.0           9.0   \n",
       "14997  201501HT20991                1.0           9.0   \n",
       "14998            NaN                NaN           NaN   \n",
       "\n",
       "       towing_and_articulation  vehicle_manoeuvre  \\\n",
       "14994                      0.0               18.0   \n",
       "14995                      0.0               18.0   \n",
       "14996                      0.0               12.0   \n",
       "14997                      0.0               18.0   \n",
       "14998                      NaN                NaN   \n",
       "\n",
       "       vehicle_location-restricted_lane  junction_location  \\\n",
       "14994                               0.0                2.0   \n",
       "14995                               0.0                0.0   \n",
       "14996                               0.0                0.0   \n",
       "14997                               9.0                1.0   \n",
       "14998                               NaN                NaN   \n",
       "\n",
       "       skidding_and_overturning  hit_object_in_carriageway  \\\n",
       "14994                       0.0                        0.0   \n",
       "14995                       0.0                        0.0   \n",
       "14996                       0.0                        0.0   \n",
       "14997                       0.0                       10.0   \n",
       "14998                       NaN                        NaN   \n",
       "\n",
       "       vehicle_leaving_carriageway         ...           age_band_of_casualty  \\\n",
       "14994                          0.0         ...                            4.0   \n",
       "14995                          0.0         ...                            7.0   \n",
       "14996                          0.0         ...                            NaN   \n",
       "14997                          1.0         ...                            5.0   \n",
       "14998                          NaN         ...                            NaN   \n",
       "\n",
       "       casualty_severity  pedestrian_location  pedestrian_movement  \\\n",
       "14994                3.0                  5.0                  4.0   \n",
       "14995                3.0                  0.0                  0.0   \n",
       "14996                NaN                  NaN                  NaN   \n",
       "14997                3.0                  6.0                  9.0   \n",
       "14998                NaN                  NaN                  NaN   \n",
       "\n",
       "       car_passenger  bus_or_coach_passenger  \\\n",
       "14994            0.0                     0.0   \n",
       "14995            0.0                     0.0   \n",
       "14996            NaN                     NaN   \n",
       "14997            0.0                     0.0   \n",
       "14998            NaN                     NaN   \n",
       "\n",
       "       pedestrian_road_maintenance_worker  casualty_type  \\\n",
       "14994                                 2.0            0.0   \n",
       "14995                                 0.0            4.0   \n",
       "14996                                 NaN            NaN   \n",
       "14997                                 2.0            0.0   \n",
       "14998                                 NaN            NaN   \n",
       "\n",
       "       casualty_home_area_type  casualty_imd_decile  \n",
       "14994                     -1.0                 -1.0  \n",
       "14995                      1.0                  6.0  \n",
       "14996                      NaN                  NaN  \n",
       "14997                      1.0                  2.0  \n",
       "14998                      NaN                  NaN  \n",
       "\n",
       "[5 rows x 70 columns]"
      ]
     },
     "execution_count": 8,
     "metadata": {},
     "output_type": "execute_result"
    }
   ],
   "source": [
    "dataset.tail(n=5)"
   ]
  },
  {
   "cell_type": "code",
   "execution_count": 9,
   "metadata": {},
   "outputs": [
    {
     "data": {
      "text/html": [
       "<div>\n",
       "<style scoped>\n",
       "    .dataframe tbody tr th:only-of-type {\n",
       "        vertical-align: middle;\n",
       "    }\n",
       "\n",
       "    .dataframe tbody tr th {\n",
       "        vertical-align: top;\n",
       "    }\n",
       "\n",
       "    .dataframe thead th {\n",
       "        text-align: right;\n",
       "    }\n",
       "</style>\n",
       "<table border=\"1\" class=\"dataframe\">\n",
       "  <thead>\n",
       "    <tr style=\"text-align: right;\">\n",
       "      <th></th>\n",
       "      <th>accident_index</th>\n",
       "      <th>vehicle_reference</th>\n",
       "      <th>vehicle_type</th>\n",
       "      <th>towing_and_articulation</th>\n",
       "      <th>vehicle_manoeuvre</th>\n",
       "      <th>vehicle_location-restricted_lane</th>\n",
       "      <th>junction_location</th>\n",
       "      <th>skidding_and_overturning</th>\n",
       "      <th>hit_object_in_carriageway</th>\n",
       "      <th>vehicle_leaving_carriageway</th>\n",
       "      <th>...</th>\n",
       "      <th>age_band_of_casualty</th>\n",
       "      <th>casualty_severity</th>\n",
       "      <th>pedestrian_location</th>\n",
       "      <th>pedestrian_movement</th>\n",
       "      <th>car_passenger</th>\n",
       "      <th>bus_or_coach_passenger</th>\n",
       "      <th>pedestrian_road_maintenance_worker</th>\n",
       "      <th>casualty_type</th>\n",
       "      <th>casualty_home_area_type</th>\n",
       "      <th>casualty_imd_decile</th>\n",
       "    </tr>\n",
       "  </thead>\n",
       "  <tbody>\n",
       "    <tr>\n",
       "      <th>14998</th>\n",
       "      <td>NaN</td>\n",
       "      <td>NaN</td>\n",
       "      <td>NaN</td>\n",
       "      <td>NaN</td>\n",
       "      <td>NaN</td>\n",
       "      <td>NaN</td>\n",
       "      <td>NaN</td>\n",
       "      <td>NaN</td>\n",
       "      <td>NaN</td>\n",
       "      <td>NaN</td>\n",
       "      <td>...</td>\n",
       "      <td>NaN</td>\n",
       "      <td>NaN</td>\n",
       "      <td>NaN</td>\n",
       "      <td>NaN</td>\n",
       "      <td>NaN</td>\n",
       "      <td>NaN</td>\n",
       "      <td>NaN</td>\n",
       "      <td>NaN</td>\n",
       "      <td>NaN</td>\n",
       "      <td>NaN</td>\n",
       "    </tr>\n",
       "  </tbody>\n",
       "</table>\n",
       "<p>1 rows × 70 columns</p>\n",
       "</div>"
      ],
      "text/plain": [
       "      accident_index  vehicle_reference  vehicle_type  \\\n",
       "14998            NaN                NaN           NaN   \n",
       "\n",
       "       towing_and_articulation  vehicle_manoeuvre  \\\n",
       "14998                      NaN                NaN   \n",
       "\n",
       "       vehicle_location-restricted_lane  junction_location  \\\n",
       "14998                               NaN                NaN   \n",
       "\n",
       "       skidding_and_overturning  hit_object_in_carriageway  \\\n",
       "14998                       NaN                        NaN   \n",
       "\n",
       "       vehicle_leaving_carriageway         ...           age_band_of_casualty  \\\n",
       "14998                          NaN         ...                            NaN   \n",
       "\n",
       "       casualty_severity  pedestrian_location  pedestrian_movement  \\\n",
       "14998                NaN                  NaN                  NaN   \n",
       "\n",
       "       car_passenger  bus_or_coach_passenger  \\\n",
       "14998            NaN                     NaN   \n",
       "\n",
       "       pedestrian_road_maintenance_worker  casualty_type  \\\n",
       "14998                                 NaN            NaN   \n",
       "\n",
       "       casualty_home_area_type  casualty_imd_decile  \n",
       "14998                      NaN                  NaN  \n",
       "\n",
       "[1 rows x 70 columns]"
      ]
     },
     "execution_count": 9,
     "metadata": {},
     "output_type": "execute_result"
    }
   ],
   "source": [
    "dataset.tail(1)"
   ]
  },
  {
   "cell_type": "markdown",
   "metadata": {},
   "source": [
    "Bar Chart Visualization"
   ]
  },
  {
   "cell_type": "code",
   "execution_count": 10,
   "metadata": {
    "scrolled": false
   },
   "outputs": [
    {
     "data": {
      "text/plain": [
       "<matplotlib.axes._subplots.AxesSubplot at 0x7f2a077fc550>"
      ]
     },
     "execution_count": 10,
     "metadata": {},
     "output_type": "execute_result"
    }
   ],
   "source": [
    "dataset['accident_severity'].value_counts().plot.bar()"
   ]
  },
  {
   "cell_type": "code",
   "execution_count": 11,
   "metadata": {},
   "outputs": [
    {
     "data": {
      "text/plain": [
       "<matplotlib.axes._subplots.AxesSubplot at 0x7f2a05742b00>"
      ]
     },
     "execution_count": 11,
     "metadata": {},
     "output_type": "execute_result"
    },
    {
     "data": {
      "image/png": "[encoded data removed]",
      "text/plain": [
       "<Figure size 432x288 with 1 Axes>"
      ]
     },
     "metadata": {},
     "output_type": "display_data"
    }
   ],
   "source": [
    "dataset['sex_of_driver'].value_counts().plot.bar()"
   ]
  },
  {
   "cell_type": "code",
   "execution_count": 12,
   "metadata": {},
   "outputs": [
    {
     "data": {
      "text/plain": [
       "<matplotlib.axes._subplots.AxesSubplot at 0x7f2a05742320>"
      ]
     },
     "execution_count": 12,
     "metadata": {},
     "output_type": "execute_result"
    },
    {
     "data": {
      "image/png": "[encoded data removed]",
      "text/plain": [
       "<Figure size 432x288 with 1 Axes>"
      ]
     },
     "metadata": {},
     "output_type": "display_data"
    }
   ],
   "source": [
    "dataset['day_of_week'].value_counts().plot.bar()"
   ]
  },
  {
   "cell_type": "code",
   "execution_count": 13,
   "metadata": {},
   "outputs": [
    {
     "data": {
      "text/plain": [
       "<matplotlib.axes._subplots.AxesSubplot at 0x7f2a056bfcc0>"
      ]
     },
     "execution_count": 13,
     "metadata": {},
     "output_type": "execute_result"
    },
    {
     "data": {
      "image/png": "[encoded data removed]",
      "text/plain": [
       "<Figure size 432x288 with 1 Axes>"
      ]
     },
     "metadata": {},
     "output_type": "display_data"
    }
   ],
   "source": [
    "dataset['road_type'].value_counts().plot.bar()"
   ]
  },
  {
   "cell_type": "code",
   "execution_count": 14,
   "metadata": {},
   "outputs": [
    {
     "data": {
      "text/plain": [
       "<matplotlib.axes._subplots.AxesSubplot at 0x7f2a056e9860>"
      ]
     },
     "execution_count": 14,
     "metadata": {},
     "output_type": "execute_result"
    },
    {
     "data": {
      "image/png": "[encoded data removed]",
      "text/plain": [
       "<Figure size 432x288 with 1 Axes>"
      ]
     },
     "metadata": {},
     "output_type": "display_data"
    }
   ],
   "source": [
    "dataset['vehicle_type'].value_counts().head(15).plot.bar()"
   ]
  },
  {
   "cell_type": "markdown",
   "metadata": {},
   "source": [
    "Percentage Bar Chart Visualization"
   ]
  },
  {
   "cell_type": "code",
   "execution_count": 15,
   "metadata": {},
   "outputs": [
    {
     "data": {
      "text/plain": [
       "<matplotlib.axes._subplots.AxesSubplot at 0x7f2a05662ac8>"
      ]
     },
     "execution_count": 15,
     "metadata": {},
     "output_type": "execute_result"
    },
    {
     "data": {
      "image/png": "[encoded data removed]",
      "text/plain": [
       "<Figure size 432x288 with 1 Axes>"
      ]
     },
     "metadata": {},
     "output_type": "display_data"
    }
   ],
   "source": [
    "(dataset['road_surface_conditions'].value_counts()/len(dataset)).plot.bar()"
   ]
  },
  {
   "cell_type": "code",
   "execution_count": 16,
   "metadata": {},
   "outputs": [
    {
     "ename": "SyntaxError",
     "evalue": "unexpected EOF while parsing (<ipython-input-16-11e8d457e495>, line 1)",
     "output_type": "error",
     "traceback": [
      "\u001b[0;36m  File \u001b[0;32m\"<ipython-input-16-11e8d457e495>\"\u001b[0;36m, line \u001b[0;32m1\u001b[0m\n\u001b[0;31m    (dataset['DAY_OF_WEEK'].value_counts()/len(dataset).plot.bar()\u001b[0m\n\u001b[0m                                                                  ^\u001b[0m\n\u001b[0;31mSyntaxError\u001b[0m\u001b[0;31m:\u001b[0m unexpected EOF while parsing\n"
     ]
    }
   ],
   "source": [
    "(dataset['DAY_OF_WEEK'].value_counts()/len(dataset).plot.bar()"
   ]
  },
  {
   "cell_type": "code",
   "execution_count": 17,
   "metadata": {},
   "outputs": [
    {
     "data": {
      "text/plain": [
       "<matplotlib.axes._subplots.AxesSubplot at 0x7f2a056282b0>"
      ]
     },
     "execution_count": 17,
     "metadata": {},
     "output_type": "execute_result"
    },
    {
     "data": {
      "image/png": "[encoded data removed]",
      "text/plain": [
       "<Figure size 432x288 with 1 Axes>"
      ]
     },
     "metadata": {},
     "output_type": "display_data"
    }
   ],
   "source": [
    "(dataset['light_conditions'].value_counts()/len(dataset)).plot.bar()"
   ]
  },
  {
   "cell_type": "code",
   "execution_count": 18,
   "metadata": {},
   "outputs": [
    {
     "data": {
      "text/plain": [
       "<matplotlib.axes._subplots.AxesSubplot at 0x7f2a055e6358>"
      ]
     },
     "execution_count": 18,
     "metadata": {},
     "output_type": "execute_result"
    },
    {
     "data": {
      "image/png": "[encoded data removed]",
      "text/plain": [
       "<Figure size 432x288 with 1 Axes>"
      ]
     },
     "metadata": {},
     "output_type": "display_data"
    }
   ],
   "source": [
    "(dataset['vehicle_type'].value_counts()/len(dataset)).plot.bar()"
   ]
  },
  {
   "cell_type": "code",
   "execution_count": 19,
   "metadata": {},
   "outputs": [
    {
     "data": {
      "text/plain": [
       "<matplotlib.axes._subplots.AxesSubplot at 0x7f2a055a4908>"
      ]
     },
     "execution_count": 19,
     "metadata": {},
     "output_type": "execute_result"
    },
    {
     "data": {
      "image/png": "[encoded data removed]",
      "text/plain": [
       "<Figure size 432x288 with 1 Axes>"
      ]
     },
     "metadata": {},
     "output_type": "display_data"
    }
   ],
   "source": [
    "(dataset['was_vehicle_left_hand_drive?'].value_counts().head(15)/len(dataset)).plot.bar()"
   ]
  },
  {
   "cell_type": "markdown",
   "metadata": {},
   "source": [
    "Line Chart Visualization"
   ]
  },
  {
   "cell_type": "code",
   "execution_count": 20,
   "metadata": {},
   "outputs": [
    {
     "data": {
      "text/plain": [
       "<matplotlib.axes._subplots.AxesSubplot at 0x7f2a0556f710>"
      ]
     },
     "execution_count": 20,
     "metadata": {},
     "output_type": "execute_result"
    },
    {
     "data": {
      "image/png": "[encoded data removed]",
      "text/plain": [
       "<Figure size 432x288 with 1 Axes>"
      ]
     },
     "metadata": {},
     "output_type": "display_data"
    }
   ],
   "source": [
    "dataset['age_of_vehicle'].value_counts().sort_index().plot.line()"
   ]
  },
  {
   "cell_type": "code",
   "execution_count": 21,
   "metadata": {},
   "outputs": [
    {
     "data": {
      "text/plain": [
       "<matplotlib.axes._subplots.AxesSubplot at 0x7f2a055358d0>"
      ]
     },
     "execution_count": 21,
     "metadata": {},
     "output_type": "execute_result"
    },
    {
     "data": {
      "image/png": "[encoded data removed]",
      "text/plain": [
       "<Figure size 432x288 with 1 Axes>"
      ]
     },
     "metadata": {},
     "output_type": "display_data"
    }
   ],
   "source": [
    "dataset['age_of_driver'].value_counts().sort_index().plot.line()"
   ]
  },
  {
   "cell_type": "markdown",
   "metadata": {},
   "source": [
    "Verify the Data Quality"
   ]
  },
  {
   "cell_type": "code",
   "execution_count": 22,
   "metadata": {},
   "outputs": [
    {
     "data": {
      "text/plain": [
       "accident_index                                         1\n",
       "vehicle_reference                                      1\n",
       "vehicle_type                                           1\n",
       "towing_and_articulation                                1\n",
       "vehicle_manoeuvre                                      1\n",
       "vehicle_location-restricted_lane                       1\n",
       "junction_location                                      1\n",
       "skidding_and_overturning                               1\n",
       "hit_object_in_carriageway                              1\n",
       "vehicle_leaving_carriageway                            1\n",
       "hit_object_off_carriageway                             1\n",
       "1st_point_of_impact                                    1\n",
       "was_vehicle_left_hand_drive?                           1\n",
       "journey_purpose_of_driver                              1\n",
       "sex_of_driver                                          1\n",
       "age_of_driver                                          3\n",
       "age_band_of_driver                                     1\n",
       "engine_capacity_(cc)                                   1\n",
       "propulsion_code                                        1\n",
       "age_of_vehicle                                         1\n",
       "driver_imd_decile                                      1\n",
       "driver_home_area_type                                  1\n",
       "vehicle_imd_decile                                     1\n",
       "NUmber_of_Casualities_unique_to_accident_index         1\n",
       "No_of_Vehicles_involved_unique_to_accident_index       1\n",
       "location_easting_osgr                                  1\n",
       "location_northing_osgr                                 1\n",
       "longitude                                              1\n",
       "latitude                                               1\n",
       "police_force                                           1\n",
       "                                                    ... \n",
       "road_type                                              1\n",
       "speed_limit                                            1\n",
       "junction_detail                                        1\n",
       "junction_control                                       1\n",
       "2nd_road_class                                         1\n",
       "2nd_road_number                                        1\n",
       "pedestrian_crossing-human_control                      1\n",
       "pedestrian_crossing-physical_facilities                1\n",
       "light_conditions                                       1\n",
       "weather_conditions                                     1\n",
       "road_surface_conditions                                1\n",
       "special_conditions_at_site                             1\n",
       "carriageway_hazards                                    1\n",
       "urban_or_rural_area                                    1\n",
       "did_police_officer_attend_scene_of_accident            1\n",
       "lsoa_of_accident_location                             20\n",
       "casualty_reference                                  5491\n",
       "casualty_class                                      5491\n",
       "sex_of_casualty                                     5491\n",
       "age_of_casualty                                     5491\n",
       "age_band_of_casualty                                5491\n",
       "casualty_severity                                   5491\n",
       "pedestrian_location                                 5491\n",
       "pedestrian_movement                                 5491\n",
       "car_passenger                                       5491\n",
       "bus_or_coach_passenger                              5491\n",
       "pedestrian_road_maintenance_worker                  5491\n",
       "casualty_type                                       5491\n",
       "casualty_home_area_type                             5491\n",
       "casualty_imd_decile                                 5491\n",
       "Length: 70, dtype: int64"
      ]
     },
     "execution_count": 22,
     "metadata": {},
     "output_type": "execute_result"
    }
   ],
   "source": [
    "dataset.isnull().sum()"
   ]
  },
  {
   "cell_type": "code",
   "execution_count": 23,
   "metadata": {},
   "outputs": [
    {
     "name": "stdout",
     "output_type": "stream",
     "text": [
      "0\n"
     ]
    }
   ],
   "source": [
    "dupRows = dataset.duplicated().sum()\n",
    "print(dupRows)"
   ]
  },
  {
   "cell_type": "markdown",
   "metadata": {},
   "source": [
    "Clean the Data"
   ]
  },
  {
   "cell_type": "markdown",
   "metadata": {},
   "source": [
    "Clean the Rows Include Missing Values"
   ]
  },
  {
   "cell_type": "code",
   "execution_count": 24,
   "metadata": {},
   "outputs": [],
   "source": [
    "dataset.dropna(axis=0, how='any', inplace=True)"
   ]
  },
  {
   "cell_type": "code",
   "execution_count": 25,
   "metadata": {},
   "outputs": [
    {
     "name": "stdout",
     "output_type": "stream",
     "text": [
      "accident_index                                      0\n",
      "vehicle_reference                                   0\n",
      "vehicle_type                                        0\n",
      "towing_and_articulation                             0\n",
      "vehicle_manoeuvre                                   0\n",
      "vehicle_location-restricted_lane                    0\n",
      "junction_location                                   0\n",
      "skidding_and_overturning                            0\n",
      "hit_object_in_carriageway                           0\n",
      "vehicle_leaving_carriageway                         0\n",
      "hit_object_off_carriageway                          0\n",
      "1st_point_of_impact                                 0\n",
      "was_vehicle_left_hand_drive?                        0\n",
      "journey_purpose_of_driver                           0\n",
      "sex_of_driver                                       0\n",
      "age_of_driver                                       0\n",
      "age_band_of_driver                                  0\n",
      "engine_capacity_(cc)                                0\n",
      "propulsion_code                                     0\n",
      "age_of_vehicle                                      0\n",
      "driver_imd_decile                                   0\n",
      "driver_home_area_type                               0\n",
      "vehicle_imd_decile                                  0\n",
      "NUmber_of_Casualities_unique_to_accident_index      0\n",
      "No_of_Vehicles_involved_unique_to_accident_index    0\n",
      "location_easting_osgr                               0\n",
      "location_northing_osgr                              0\n",
      "longitude                                           0\n",
      "latitude                                            0\n",
      "police_force                                        0\n",
      "                                                   ..\n",
      "road_type                                           0\n",
      "speed_limit                                         0\n",
      "junction_detail                                     0\n",
      "junction_control                                    0\n",
      "2nd_road_class                                      0\n",
      "2nd_road_number                                     0\n",
      "pedestrian_crossing-human_control                   0\n",
      "pedestrian_crossing-physical_facilities             0\n",
      "light_conditions                                    0\n",
      "weather_conditions                                  0\n",
      "road_surface_conditions                             0\n",
      "special_conditions_at_site                          0\n",
      "carriageway_hazards                                 0\n",
      "urban_or_rural_area                                 0\n",
      "did_police_officer_attend_scene_of_accident         0\n",
      "lsoa_of_accident_location                           0\n",
      "casualty_reference                                  0\n",
      "casualty_class                                      0\n",
      "sex_of_casualty                                     0\n",
      "age_of_casualty                                     0\n",
      "age_band_of_casualty                                0\n",
      "casualty_severity                                   0\n",
      "pedestrian_location                                 0\n",
      "pedestrian_movement                                 0\n",
      "car_passenger                                       0\n",
      "bus_or_coach_passenger                              0\n",
      "pedestrian_road_maintenance_worker                  0\n",
      "casualty_type                                       0\n",
      "casualty_home_area_type                             0\n",
      "casualty_imd_decile                                 0\n",
      "Length: 70, dtype: int64\n"
     ]
    }
   ],
   "source": [
    "print (dataset.isnull().sum())"
   ]
  },
  {
   "cell_type": "markdown",
   "metadata": {},
   "source": [
    "Reduce Data"
   ]
  },
  {
   "cell_type": "code",
   "execution_count": 26,
   "metadata": {},
   "outputs": [
    {
     "data": {
      "text/html": [
       "<div>\n",
       "<style scoped>\n",
       "    .dataframe tbody tr th:only-of-type {\n",
       "        vertical-align: middle;\n",
       "    }\n",
       "\n",
       "    .dataframe tbody tr th {\n",
       "        vertical-align: top;\n",
       "    }\n",
       "\n",
       "    .dataframe thead th {\n",
       "        text-align: right;\n",
       "    }\n",
       "</style>\n",
       "<table border=\"1\" class=\"dataframe\">\n",
       "  <thead>\n",
       "    <tr style=\"text-align: right;\">\n",
       "      <th></th>\n",
       "      <th>accident_index</th>\n",
       "      <th>vehicle_reference</th>\n",
       "      <th>vehicle_type</th>\n",
       "      <th>towing_and_articulation</th>\n",
       "      <th>vehicle_manoeuvre</th>\n",
       "      <th>vehicle_location-restricted_lane</th>\n",
       "      <th>junction_location</th>\n",
       "      <th>skidding_and_overturning</th>\n",
       "      <th>hit_object_in_carriageway</th>\n",
       "      <th>vehicle_leaving_carriageway</th>\n",
       "      <th>...</th>\n",
       "      <th>casualty_class</th>\n",
       "      <th>sex_of_casualty</th>\n",
       "      <th>age_of_casualty</th>\n",
       "      <th>age_band_of_casualty</th>\n",
       "      <th>casualty_severity</th>\n",
       "      <th>pedestrian_location</th>\n",
       "      <th>pedestrian_movement</th>\n",
       "      <th>car_passenger</th>\n",
       "      <th>pedestrian_road_maintenance_worker</th>\n",
       "      <th>casualty_type</th>\n",
       "    </tr>\n",
       "  </thead>\n",
       "  <tbody>\n",
       "    <tr>\n",
       "      <th>2</th>\n",
       "      <td>201506E098766</td>\n",
       "      <td>2.0</td>\n",
       "      <td>9.0</td>\n",
       "      <td>0.0</td>\n",
       "      <td>18.0</td>\n",
       "      <td>0.0</td>\n",
       "      <td>8.0</td>\n",
       "      <td>0.0</td>\n",
       "      <td>0.0</td>\n",
       "      <td>0.0</td>\n",
       "      <td>...</td>\n",
       "      <td>1.0</td>\n",
       "      <td>1.0</td>\n",
       "      <td>51.0</td>\n",
       "      <td>8.0</td>\n",
       "      <td>3.0</td>\n",
       "      <td>0.0</td>\n",
       "      <td>0.0</td>\n",
       "      <td>0.0</td>\n",
       "      <td>0.0</td>\n",
       "      <td>9.0</td>\n",
       "    </tr>\n",
       "    <tr>\n",
       "      <th>3</th>\n",
       "      <td>201506E098777</td>\n",
       "      <td>1.0</td>\n",
       "      <td>20.0</td>\n",
       "      <td>0.0</td>\n",
       "      <td>4.0</td>\n",
       "      <td>0.0</td>\n",
       "      <td>0.0</td>\n",
       "      <td>0.0</td>\n",
       "      <td>0.0</td>\n",
       "      <td>0.0</td>\n",
       "      <td>...</td>\n",
       "      <td>3.0</td>\n",
       "      <td>2.0</td>\n",
       "      <td>34.0</td>\n",
       "      <td>6.0</td>\n",
       "      <td>3.0</td>\n",
       "      <td>1.0</td>\n",
       "      <td>1.0</td>\n",
       "      <td>0.0</td>\n",
       "      <td>0.0</td>\n",
       "      <td>0.0</td>\n",
       "    </tr>\n",
       "    <tr>\n",
       "      <th>5</th>\n",
       "      <td>201506E098780</td>\n",
       "      <td>2.0</td>\n",
       "      <td>1.0</td>\n",
       "      <td>0.0</td>\n",
       "      <td>9.0</td>\n",
       "      <td>0.0</td>\n",
       "      <td>5.0</td>\n",
       "      <td>0.0</td>\n",
       "      <td>0.0</td>\n",
       "      <td>0.0</td>\n",
       "      <td>...</td>\n",
       "      <td>1.0</td>\n",
       "      <td>1.0</td>\n",
       "      <td>46.0</td>\n",
       "      <td>8.0</td>\n",
       "      <td>3.0</td>\n",
       "      <td>0.0</td>\n",
       "      <td>0.0</td>\n",
       "      <td>0.0</td>\n",
       "      <td>0.0</td>\n",
       "      <td>1.0</td>\n",
       "    </tr>\n",
       "    <tr>\n",
       "      <th>6</th>\n",
       "      <td>201506E098792</td>\n",
       "      <td>1.0</td>\n",
       "      <td>3.0</td>\n",
       "      <td>0.0</td>\n",
       "      <td>4.0</td>\n",
       "      <td>0.0</td>\n",
       "      <td>2.0</td>\n",
       "      <td>0.0</td>\n",
       "      <td>0.0</td>\n",
       "      <td>0.0</td>\n",
       "      <td>...</td>\n",
       "      <td>1.0</td>\n",
       "      <td>2.0</td>\n",
       "      <td>27.0</td>\n",
       "      <td>6.0</td>\n",
       "      <td>3.0</td>\n",
       "      <td>0.0</td>\n",
       "      <td>0.0</td>\n",
       "      <td>0.0</td>\n",
       "      <td>0.0</td>\n",
       "      <td>3.0</td>\n",
       "    </tr>\n",
       "    <tr>\n",
       "      <th>8</th>\n",
       "      <td>201506E098804</td>\n",
       "      <td>1.0</td>\n",
       "      <td>9.0</td>\n",
       "      <td>0.0</td>\n",
       "      <td>14.0</td>\n",
       "      <td>0.0</td>\n",
       "      <td>1.0</td>\n",
       "      <td>0.0</td>\n",
       "      <td>0.0</td>\n",
       "      <td>0.0</td>\n",
       "      <td>...</td>\n",
       "      <td>3.0</td>\n",
       "      <td>1.0</td>\n",
       "      <td>12.0</td>\n",
       "      <td>3.0</td>\n",
       "      <td>3.0</td>\n",
       "      <td>1.0</td>\n",
       "      <td>2.0</td>\n",
       "      <td>0.0</td>\n",
       "      <td>0.0</td>\n",
       "      <td>0.0</td>\n",
       "    </tr>\n",
       "  </tbody>\n",
       "</table>\n",
       "<p>5 rows × 64 columns</p>\n",
       "</div>"
      ],
      "text/plain": [
       "  accident_index  vehicle_reference  vehicle_type  towing_and_articulation  \\\n",
       "2  201506E098766                2.0           9.0                      0.0   \n",
       "3  201506E098777                1.0          20.0                      0.0   \n",
       "5  201506E098780                2.0           1.0                      0.0   \n",
       "6  201506E098792                1.0           3.0                      0.0   \n",
       "8  201506E098804                1.0           9.0                      0.0   \n",
       "\n",
       "   vehicle_manoeuvre  vehicle_location-restricted_lane  junction_location  \\\n",
       "2               18.0                               0.0                8.0   \n",
       "3                4.0                               0.0                0.0   \n",
       "5                9.0                               0.0                5.0   \n",
       "6                4.0                               0.0                2.0   \n",
       "8               14.0                               0.0                1.0   \n",
       "\n",
       "   skidding_and_overturning  hit_object_in_carriageway  \\\n",
       "2                       0.0                        0.0   \n",
       "3                       0.0                        0.0   \n",
       "5                       0.0                        0.0   \n",
       "6                       0.0                        0.0   \n",
       "8                       0.0                        0.0   \n",
       "\n",
       "   vehicle_leaving_carriageway      ...        casualty_class  \\\n",
       "2                          0.0      ...                   1.0   \n",
       "3                          0.0      ...                   3.0   \n",
       "5                          0.0      ...                   1.0   \n",
       "6                          0.0      ...                   1.0   \n",
       "8                          0.0      ...                   3.0   \n",
       "\n",
       "   sex_of_casualty  age_of_casualty  age_band_of_casualty  casualty_severity  \\\n",
       "2              1.0             51.0                   8.0                3.0   \n",
       "3              2.0             34.0                   6.0                3.0   \n",
       "5              1.0             46.0                   8.0                3.0   \n",
       "6              2.0             27.0                   6.0                3.0   \n",
       "8              1.0             12.0                   3.0                3.0   \n",
       "\n",
       "   pedestrian_location  pedestrian_movement  car_passenger  \\\n",
       "2                  0.0                  0.0            0.0   \n",
       "3                  1.0                  1.0            0.0   \n",
       "5                  0.0                  0.0            0.0   \n",
       "6                  0.0                  0.0            0.0   \n",
       "8                  1.0                  2.0            0.0   \n",
       "\n",
       "   pedestrian_road_maintenance_worker  casualty_type  \n",
       "2                                 0.0            9.0  \n",
       "3                                 0.0            0.0  \n",
       "5                                 0.0            1.0  \n",
       "6                                 0.0            3.0  \n",
       "8                                 0.0            0.0  \n",
       "\n",
       "[5 rows x 64 columns]"
      ]
     },
     "execution_count": 26,
     "metadata": {},
     "output_type": "execute_result"
    }
   ],
   "source": [
    "\n",
    "dataset.drop(['casualty_home_area_type'],axis=1,inplace=True)\n",
    "dataset.drop(['casualty_imd_decile'],axis=1,inplace=True)\n",
    "dataset.drop(['bus_or_coach_passenger'],axis=1,inplace=True)\n",
    "dataset.drop(['special_conditions_at_site'],axis=1,inplace=True)\n",
    "dataset.drop(['carriageway_hazards'],axis=1,inplace=True)\n",
    "dataset.drop(['junction_control'],axis=1,inplace=True)\n",
    "dataset.head(n=5)"
   ]
  }
 ],
 "metadata": {
  "kernelspec": {
   "display_name": "Python 3",
   "language": "python",
   "name": "python3"
  },
  "language_info": {
   "codemirror_mode": {
    "name": "ipython",
    "version": 3
   },
   "file_extension": ".py",
   "mimetype": "text/x-python",
   "name": "python",
   "nbconvert_exporter": "python",
   "pygments_lexer": "ipython3",
   "version": "3.5.2"
  }
 },
 "nbformat": 4,
 "nbformat_minor": 2
}
